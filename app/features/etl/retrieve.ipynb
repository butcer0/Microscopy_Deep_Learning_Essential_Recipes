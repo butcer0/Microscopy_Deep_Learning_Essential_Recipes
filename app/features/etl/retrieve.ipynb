{
 "cells": [
  {
   "cell_type": "code",
   "execution_count": 3,
   "outputs": [
    {
     "data": {
      "text/plain": "8861070"
     },
     "metadata": {},
     "output_type": "execute_result",
     "execution_count": 3
    }
   ],
   "source": [
    "import requests\n",
    "\n",
    "PYTHON_URL = 'https://www.python.org/static/img/python-logo@2x.png'\n",
    "PYTHON2_URL = 'https://images.pexels.com/photos/3280908/pexels-photo-3280908.jpeg'\n",
    "url = PYTHON2_URL \n",
    "myFile = requests.get(url)\n",
    "\n",
    "open('./extracted/PythonImage.png', 'wb').write(myFile.content)\n"
   ],
   "metadata": {
    "collapsed": false,
    "pycharm": {
     "name": "#%%\n",
     "is_executing": false
    }
   }
  }
 ],
 "metadata": {
  "kernelspec": {
   "name": "python3",
   "language": "python",
   "display_name": "Python 3"
  },
  "language_info": {
   "codemirror_mode": {
    "name": "ipython",
    "version": 2
   },
   "file_extension": ".py",
   "mimetype": "text/x-python",
   "name": "python",
   "nbconvert_exporter": "python",
   "pygments_lexer": "ipython2",
   "version": "2.7.6"
  },
  "pycharm": {
   "stem_cell": {
    "cell_type": "raw",
    "source": [],
    "metadata": {
     "collapsed": false
    }
   }
  }
 },
 "nbformat": 4,
 "nbformat_minor": 0
}